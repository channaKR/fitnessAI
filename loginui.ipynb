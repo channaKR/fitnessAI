{
 "cells": [
  {
   "cell_type": "code",
   "execution_count": 3,
   "id": "70ff934d",
   "metadata": {},
   "outputs": [],
   "source": [
    "import tkinter as tk\n",
    "from tkinter import filedialog\n",
    "from tkinter.filedialog import askopenfile\n",
    "import createaccount as account\n",
    "import DataBaseOperations as database\n",
    "\n",
    "def loginfuction(user_name,user_password):\n",
    "    login_data=database.login(user_name,user_password)\n",
    "    if len(login_data)==0:\n",
    "        tk.messagebox.showinfo(title=\"Invalid\", message=\"Invalid Login\")\n",
    "    elif len(login_data)==1:\n",
    "        tk.messagebox.showinfo(title=\"Empty Field\", message=\"Login!!!\")\n",
    "    \n",
    "    \n",
    "    \n",
    "\n",
    "def loginform():\n",
    "    windowsform = tk.Tk()\n",
    "    windowsform.title('Login Account')\n",
    "    windowsform.geometry(\"400x400\")\n",
    "    windowsform.maxsize(400,600)\n",
    "    windowsform.config(bg='#293A4B')\n",
    "    username=\"\"\n",
    "    password=\"\"\n",
    "    msg=\"\"\n",
    "    username=tk.StringVar()\n",
    "    password=tk.StringVar()\n",
    "    \n",
    "    label_username=tk.Label(windowsform,text=\"USER NAME\",bg=\"#293A4B\",foreground=\"white\",\n",
    "                            font='Helvetica 10 bold').pack()\n",
    "\n",
    "    username_textbox = tk.Entry(windowsform,width=50,font='Helvetica 10 bold',textvariable=username).pack()\n",
    "\n",
    "    label_password=tk.Label(windowsform,text=\"PASSWORD\",bg=\"#293A4B\",foreground=\"white\",\n",
    "                            font='Helvetica 10 bold').pack()\n",
    "\n",
    "    password_textbox = tk.Entry(windowsform,show=\"*\",width=50,font='Helvetica 10 bold',textvariable=password).pack()\n",
    "\n",
    "    login_account=tk.Button(windowsform,width=30,font='Helvetica 10 bold',text=\"Login Account\",bg=\"orange\",command=lambda:loginfuction(username.get(),password.get())).place(x=70,y=110)\n",
    "    create_account=tk.Button(windowsform,width=30,font='Helvetica 10 bold',text=\"Create Account\",bg=\"orange\",command=lambda:[windowsform.destroy(),account.createaccount()]).place(x=70,y=140)\n",
    "    label_message=tk.Label(windowsform,text=\"\",bg=\"#293A4B\",foreground=\"orange\",\n",
    "                                    font='Helvetica 15 bold',textvariable=msg).place(x=60,y=250)\n",
    "\n",
    "    windowsform.mainloop()\n",
    "\n",
    "loginform()"
   ]
  },
  {
   "cell_type": "markdown",
   "id": "cf5f0c62",
   "metadata": {},
   "source": []
  },
  {
   "cell_type": "code",
   "execution_count": null,
   "id": "d6f75f12",
   "metadata": {},
   "outputs": [],
   "source": []
  }
 ],
 "metadata": {
  "kernelspec": {
   "display_name": "Python 3 (ipykernel)",
   "language": "python",
   "name": "python3"
  },
  "language_info": {
   "codemirror_mode": {
    "name": "ipython",
    "version": 3
   },
   "file_extension": ".py",
   "mimetype": "text/x-python",
   "name": "python",
   "nbconvert_exporter": "python",
   "pygments_lexer": "ipython3",
   "version": "3.9.12"
  }
 },
 "nbformat": 4,
 "nbformat_minor": 5
}
