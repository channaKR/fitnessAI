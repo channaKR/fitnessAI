{
 "cells": [
  {
   "cell_type": "code",
   "execution_count": 1,
   "id": "e3b37098",
   "metadata": {},
   "outputs": [],
   "source": [
    "import DbConnector as db\n",
    "import mysql.connector"
   ]
  },
  {
   "cell_type": "code",
   "execution_count": 8,
   "id": "f431dc66",
   "metadata": {},
   "outputs": [],
   "source": [
    "def createaccount(name,username,password):\n",
    "    try:\n",
    "        mydb =db.connector()\n",
    "        mycursor = mydb.cursor()\n",
    "        query=\"insert into user(name,username,password) values(%s,%s,%s)\"\n",
    "        data=(name,username,password)\n",
    "        \n",
    "        mycursor.execute(query,data)\n",
    "        mydb.commit()\n",
    "        return 1\n",
    "    except Exception as e:\n",
    "        \n",
    "        return 0\n",
    "    \n",
    "       \n",
    "    \n"
   ]
  },
  {
   "cell_type": "code",
   "execution_count": 2,
   "id": "8412f2b4",
   "metadata": {},
   "outputs": [],
   "source": [
    "def login(username,password):\n",
    "    try:\n",
    "        mydb =db.connector()\n",
    "        mycursor = mydb.cursor()\n",
    "        query=\"SELECT * FROM user WHERE username=%s and password=%s\"\n",
    "        data=(username,password)\n",
    "        mycursor.execute(query,data)\n",
    "        myresult = mycursor.fetchall()\n",
    "        return myresult\n",
    "        \n",
    "        \n",
    "        \n",
    "    except Exception as e:\n",
    "        print(e)\n",
    "        \n",
    "    "
   ]
  }
 ],
 "metadata": {
  "kernelspec": {
   "display_name": "Python 3 (ipykernel)",
   "language": "python",
   "name": "python3"
  },
  "language_info": {
   "codemirror_mode": {
    "name": "ipython",
    "version": 3
   },
   "file_extension": ".py",
   "mimetype": "text/x-python",
   "name": "python",
   "nbconvert_exporter": "python",
   "pygments_lexer": "ipython3",
   "version": "3.9.12"
  }
 },
 "nbformat": 4,
 "nbformat_minor": 5
}
