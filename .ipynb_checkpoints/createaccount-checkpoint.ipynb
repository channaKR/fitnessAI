{
 "cells": [
  {
   "cell_type": "code",
   "execution_count": 5,
   "id": "ffbef5cd",
   "metadata": {},
   "outputs": [
    {
     "ename": "SyntaxError",
     "evalue": "invalid syntax (3496472997.py, line 7)",
     "output_type": "error",
     "traceback": [
      "\u001b[1;36m  Input \u001b[1;32mIn [5]\u001b[1;36m\u001b[0m\n\u001b[1;33m    if name.get()==\"\"|user_password.get()=\"\":\u001b[0m\n\u001b[1;37m                                         ^\u001b[0m\n\u001b[1;31mSyntaxError\u001b[0m\u001b[1;31m:\u001b[0m invalid syntax\n"
     ]
    }
   ],
   "source": [
    "import tkinter as tk\n",
    "from tkinter import filedialog\n",
    "from tkinter.filedialog import askopenfile\n",
    "import loginui as log\n",
    "import DataBaseOperations as datab\n",
    "def create_user():\n",
    "    if name.get()==\"\":\n",
    "        tk.messagebox.showinfo(title=\"Empty Field\", message=\"Fill The Empty Field!!!\")\n",
    "        \n",
    "    else:\n",
    "        \n",
    "        \n",
    "        account_status=datab.createaccount(name.get(),username.get(),user_password.get())\n",
    "        if account_status==1:\n",
    "            msg.set(\"Account Created Successfully\")\n",
    "            window.destroy()\n",
    "            loginform()\n",
    "            \n",
    "            \n",
    "            \n",
    "        else:\n",
    "            \n",
    "            msg.set(\"Please Check Your Data\")\n",
    "            \n",
    "        \n",
    "        \n",
    "def loginform():\n",
    "    \n",
    "    log.loginform()\n",
    "\n",
    "def close_window(windowsform):\n",
    "    windowsform.destroy()\n",
    "    \n",
    "    \n",
    "    \n",
    "def createaccount():\n",
    "            windowsform = tk.Tk()\n",
    "            windowsform.title('Create Account')\n",
    "            windowsform.geometry(\"400x400\")\n",
    "            windowsform.maxsize(400,400)\n",
    "            windowsform.config(bg='#293A4B')\n",
    "            global username\n",
    "            global name;\n",
    "            global user_password\n",
    "            global msg;\n",
    "            global window;\n",
    "            name = tk.StringVar()\n",
    "            username = tk.StringVar()\n",
    "            user_password=tk.StringVar()\n",
    "            window=windowsform\n",
    "            msg=tk.StringVar()\n",
    "            ################################\n",
    "            label_name=tk.Label(windowsform,text=\"NAME\",bg=\"#293A4B\",foreground=\"white\",\n",
    "                                    font='Helvetica 10 bold').pack()\n",
    "            name_textbox = tk.Entry(windowsform,width=50,font='Helvetica 10 bold',textvariable=name).pack()\n",
    "            label_username=tk.Label(windowsform,text=\"USER NAME\",bg=\"#293A4B\",foreground=\"white\",\n",
    "                                    font='Helvetica 10 bold').pack()\n",
    "\n",
    "            username_textbox = tk.Entry(windowsform,width=50,font='Helvetica 10 bold',textvariable=username).pack()\n",
    "\n",
    "            label_password=tk.Label(windowsform,text=\"PASSWORD\",bg=\"#293A4B\",foreground=\"white\",\n",
    "                                    font='Helvetica 10 bold').pack()\n",
    "\n",
    "            password_textbox = tk.Entry(windowsform,show=\"*\",width=50,font='Helvetica 10 bold',textvariable=user_password).pack()\n",
    "\n",
    "            create_account=tk.Button(windowsform,width=30,font='Helvetica 10 bold',text=\"Create Account\",bg=\"orange\",command=lambda:[create_user()]).place(x=70,y=150)\n",
    "            login_account=tk.Button(windowsform,width=30,font='Helvetica 10 bold',text=\"Login Account\",bg=\"orange\",command=lambda:[windowsform.destroy(),loginform()]).place(x=70,y=190)\n",
    "            label_message=tk.Label(windowsform,text=\"\",bg=\"#293A4B\",foreground=\"orange\",\n",
    "                                    font='Helvetica 15 bold',textvariable=msg).place(x=60,y=250)\n",
    "            ###############################\n",
    "\n",
    "            \n",
    "            windowsform.mainloop()\n",
    "            \n",
    "createaccount()"
   ]
  },
  {
   "cell_type": "code",
   "execution_count": null,
   "id": "0bc8a43a",
   "metadata": {},
   "outputs": [],
   "source": []
  },
  {
   "cell_type": "code",
   "execution_count": null,
   "id": "0c9751f0",
   "metadata": {},
   "outputs": [],
   "source": []
  }
 ],
 "metadata": {
  "kernelspec": {
   "display_name": "Python 3 (ipykernel)",
   "language": "python",
   "name": "python3"
  },
  "language_info": {
   "codemirror_mode": {
    "name": "ipython",
    "version": 3
   },
   "file_extension": ".py",
   "mimetype": "text/x-python",
   "name": "python",
   "nbconvert_exporter": "python",
   "pygments_lexer": "ipython3",
   "version": "3.9.12"
  }
 },
 "nbformat": 4,
 "nbformat_minor": 5
}
