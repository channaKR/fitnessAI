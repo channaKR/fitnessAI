{
 "cells": [
  {
   "cell_type": "code",
   "execution_count": 1,
   "id": "684146f4",
   "metadata": {},
   "outputs": [],
   "source": [
    " import mysql.connector "
   ]
  },
  {
   "cell_type": "code",
   "execution_count": 16,
   "id": "af0874ff",
   "metadata": {},
   "outputs": [],
   "source": [
    "def connector():\n",
    "    mydb =mysql.connector.connect(\n",
    "        host=\"localhost\",\n",
    "        user=\"root\",\n",
    "        password=\"123456\")\n",
    "        \n",
    "    return mydb"
   ]
  },
  {
   "cell_type": "code",
   "execution_count": 19,
   "id": "7477c8a2",
   "metadata": {},
   "outputs": [
    {
     "data": {
      "text/plain": [
       "<mysql.connector.connection_cext.CMySQLConnection at 0x2457c09aaf0>"
      ]
     },
     "execution_count": 19,
     "metadata": {},
     "output_type": "execute_result"
    }
   ],
   "source": []
  },
  {
   "cell_type": "code",
   "execution_count": null,
   "id": "15edb0e8",
   "metadata": {},
   "outputs": [],
   "source": []
  }
 ],
 "metadata": {
  "kernelspec": {
   "display_name": "Python 3 (ipykernel)",
   "language": "python",
   "name": "python3"
  },
  "language_info": {
   "codemirror_mode": {
    "name": "ipython",
    "version": 3
   },
   "file_extension": ".py",
   "mimetype": "text/x-python",
   "name": "python",
   "nbconvert_exporter": "python",
   "pygments_lexer": "ipython3",
   "version": "3.9.12"
  }
 },
 "nbformat": 4,
 "nbformat_minor": 5
}
