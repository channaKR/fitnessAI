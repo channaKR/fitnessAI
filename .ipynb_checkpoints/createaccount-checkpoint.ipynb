{
 "cells": [
  {
   "cell_type": "code",
   "execution_count": 3,
   "id": "ffbef5cd",
   "metadata": {},
   "outputs": [],
   "source": [
    "import tkinter as tk\n",
    "from tkinter import filedialog\n",
    "from tkinter.filedialog import askopenfile\n",
    "import loginui as log\n",
    "\n",
    "def validate_form():\n",
    "    if name.get()==\"\":\n",
    "        tk.messagebox.showinfo(title=\"Empty Field\", message=\"Fill The Empty Field!!!\")\n",
    "        \n",
    "    else:\n",
    "        print(name.get())\n",
    "        \n",
    "def loginform():\n",
    "    \n",
    "    \n",
    "    log.loginform()\n",
    "    \n",
    "    \n",
    "def createaccount():\n",
    "            windowsform = tk.Tk()\n",
    "            windowsform.title('Create Account')\n",
    "            windowsform.geometry(\"400x400\")\n",
    "            windowsform.maxsize(400,600)\n",
    "            windowsform.config(bg='#293A4B')\n",
    "            global username\n",
    "            global name;\n",
    "            name = tk.StringVar()\n",
    "            username = tk.StringVar()\n",
    "            user_password=tk.StringVar()\n",
    "            ################################\n",
    "            label_name=tk.Label(windowsform,text=\"NAME\",bg=\"#293A4B\",foreground=\"white\",\n",
    "                                    font='Helvetica 10 bold').pack()\n",
    "            name_textbox = tk.Entry(windowsform,width=50,font='Helvetica 10 bold',textvariable=name).pack()\n",
    "            label_username=tk.Label(windowsform,text=\"USER NAME\",bg=\"#293A4B\",foreground=\"white\",\n",
    "                                    font='Helvetica 10 bold').pack()\n",
    "\n",
    "            username_textbox = tk.Entry(windowsform,width=50,font='Helvetica 10 bold').pack()\n",
    "\n",
    "            label_password=tk.Label(windowsform,text=\"PASSWORD\",bg=\"#293A4B\",foreground=\"white\",\n",
    "                                    font='Helvetica 10 bold').pack()\n",
    "\n",
    "            password_textbox = tk.Entry(windowsform,show=\"*\",width=50,font='Helvetica 10 bold').pack()\n",
    "\n",
    "            create_account=tk.Button(windowsform,width=30,font='Helvetica 10 bold',text=\"Create Account\",bg=\"orange\",command=validate_form).place(x=70,y=150)\n",
    "            login_account=tk.Button(windowsform,width=30,font='Helvetica 10 bold',text=\"Login Account\",bg=\"orange\",command=lambda:[windowsform.destroy(),loginform()]).place(x=70,y=190)\n",
    "            ###############################\n",
    "\n",
    "            \n",
    "            windowsform.mainloop()\n",
    "            \n",
    "createaccount()"
   ]
  },
  {
   "cell_type": "code",
   "execution_count": null,
   "id": "2dfb143f",
   "metadata": {},
   "outputs": [],
   "source": []
  },
  {
   "cell_type": "code",
   "execution_count": null,
   "id": "2a82cf87",
   "metadata": {},
   "outputs": [],
   "source": []
  }
 ],
 "metadata": {
  "kernelspec": {
   "display_name": "Python 3 (ipykernel)",
   "language": "python",
   "name": "python3"
  },
  "language_info": {
   "codemirror_mode": {
    "name": "ipython",
    "version": 3
   },
   "file_extension": ".py",
   "mimetype": "text/x-python",
   "name": "python",
   "nbconvert_exporter": "python",
   "pygments_lexer": "ipython3",
   "version": "3.9.12"
  }
 },
 "nbformat": 4,
 "nbformat_minor": 5
}
