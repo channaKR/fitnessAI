{
 "cells": [
  {
   "cell_type": "code",
   "execution_count": 5,
   "id": "70ff934d",
   "metadata": {},
   "outputs": [],
   "source": [
    "import tkinter as tk\n",
    "from tkinter import filedialog\n",
    "from tkinter.filedialog import askopenfile\n",
    "import createaccount as account\n",
    "\n",
    "def loginform():\n",
    "    windowsform = tk.Tk()\n",
    "    windowsform.title('Login Account')\n",
    "    windowsform.geometry(\"400x400\")\n",
    "    windowsform.maxsize(400,600)\n",
    "    windowsform.config(bg='#293A4B')\n",
    "\n",
    "    label_username=tk.Label(windowsform,text=\"USER NAME\",bg=\"#293A4B\",foreground=\"white\",\n",
    "                            font='Helvetica 10 bold').pack()\n",
    "\n",
    "    username_textbox = tk.Entry(windowsform,width=50,font='Helvetica 10 bold').pack()\n",
    "\n",
    "    label_password=tk.Label(windowsform,text=\"PASSWORD\",bg=\"#293A4B\",foreground=\"white\",\n",
    "                            font='Helvetica 10 bold').pack()\n",
    "\n",
    "    password_textbox = tk.Entry(windowsform,show=\"*\",width=50,font='Helvetica 10 bold').pack()\n",
    "\n",
    "    login_account=tk.Button(windowsform,width=30,font='Helvetica 10 bold',text=\"Login Account\",bg=\"orange\").place(x=70,y=110)\n",
    "    create_account=tk.Button(windowsform,width=30,font='Helvetica 10 bold',text=\"Create Account\",bg=\"orange\",command=lambda:[windowsform.destroy(),account.createaccount()]).place(x=70,y=140)\n",
    "\n",
    "\n",
    "    windowsform.mainloop()\n",
    "\n",
    "loginform()"
   ]
  },
  {
   "cell_type": "code",
   "execution_count": null,
   "id": "13997af2",
   "metadata": {},
   "outputs": [],
   "source": []
  },
  {
   "cell_type": "code",
   "execution_count": null,
   "id": "e7c15033",
   "metadata": {},
   "outputs": [],
   "source": []
  }
 ],
 "metadata": {
  "kernelspec": {
   "display_name": "Python 3 (ipykernel)",
   "language": "python",
   "name": "python3"
  },
  "language_info": {
   "codemirror_mode": {
    "name": "ipython",
    "version": 3
   },
   "file_extension": ".py",
   "mimetype": "text/x-python",
   "name": "python",
   "nbconvert_exporter": "python",
   "pygments_lexer": "ipython3",
   "version": "3.9.12"
  }
 },
 "nbformat": 4,
 "nbformat_minor": 5
}
