{
 "cells": [
  {
   "cell_type": "code",
   "execution_count": 22,
   "id": "ed5c3011",
   "metadata": {},
   "outputs": [],
   "source": [
    "import cv2\n",
    "from matplotlib import pyplot as plt\n",
    "import os\n",
    "import numpy as np\n",
    "from tensorflow.keras.preprocessing.image import load_img\n",
    "from tensorflow.keras.preprocessing.image import img_to_array\n",
    "from tensorflow.keras.models import load_model\n",
    "import tkinter as tk\n",
    "from tkinter import filedialog\n",
    "from tkinter.filedialog import askopenfile\n",
    "from PIL import Image, ImageTk"
   ]
  },
  {
   "cell_type": "code",
   "execution_count": 66,
   "id": "bb1e6933",
   "metadata": {},
   "outputs": [],
   "source": [
    "def upload_image():\n",
    "    global image_file\n",
    "    file_type=[('Jpg Files', '*.jpg'),('Png Files','*png'),('Jpeg Files','*jpeg')]\n",
    "    filename=filedialog.askopenfilename(filetypes=file_type)\n",
    "    image_file=Image.open(filename)\n",
    "    img_resized=image_file.resize((400,200))\n",
    "    image_file=ImageTk.PhotoImage(img_resized)\n",
    "    image_preview =tk.Button(windowsform,image=image_file)\n",
    "    image_preview.place(x=100,y=90)\n",
    "    file_location.set(filename)\n",
    "    \n",
    "    \n",
    "\n",
    "\n",
    "\n",
    "windowsform = tk.Tk()\n",
    "global file_location\n",
    "file_location=tk.StringVar();\n",
    "windowsform.geometry(\"600x600\")\n",
    "windowsform.maxsize(600, 600)\n",
    "windowsform.title(\"Main Form\")\n",
    "windowsform.config(bg='#293A4B')\n",
    "label_name=tk.Label(windowsform,text=\"Upload Your Body Image\",bg=\"#293A4B\",foreground=\"white\",font='Helvetica 20 bold').pack()\n",
    "upload_btn=tk.Button(windowsform,text=\"Upload Image\",width=30,bg=\"orange\",foreground=\"white\",font='Helvetica 10 bold',command=lambda:upload_image()).place(x=180,y=50)\n",
    "location_text=tk.Label(windowsform,text='',width=20,bg=\"#293A4B\",foreground=\"white\",font='Helvetica 15 bold',textvariable=file_location).place(x=190,y=310)\n",
    "\n",
    "windowsform.mainloop()"
   ]
  },
  {
   "cell_type": "code",
   "execution_count": null,
   "id": "8f35a84d",
   "metadata": {},
   "outputs": [],
   "source": []
  },
  {
   "cell_type": "code",
   "execution_count": null,
   "id": "264a1ef6",
   "metadata": {},
   "outputs": [],
   "source": []
  },
  {
   "cell_type": "code",
   "execution_count": null,
   "id": "b0a23df4",
   "metadata": {},
   "outputs": [],
   "source": []
  },
  {
   "cell_type": "code",
   "execution_count": null,
   "id": "08a0aedd",
   "metadata": {},
   "outputs": [],
   "source": []
  }
 ],
 "metadata": {
  "kernelspec": {
   "display_name": "Python 3 (ipykernel)",
   "language": "python",
   "name": "python3"
  },
  "language_info": {
   "codemirror_mode": {
    "name": "ipython",
    "version": 3
   },
   "file_extension": ".py",
   "mimetype": "text/x-python",
   "name": "python",
   "nbconvert_exporter": "python",
   "pygments_lexer": "ipython3",
   "version": "3.9.12"
  }
 },
 "nbformat": 4,
 "nbformat_minor": 5
}
